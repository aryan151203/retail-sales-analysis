{
 "cells": [
  {
   "cell_type": "code",
   "execution_count": 8,
   "id": "5a939797",
   "metadata": {},
   "outputs": [
    {
     "name": "stdout",
     "output_type": "stream",
     "text": [
      "Dataset URL: https://www.kaggle.com/datasets/ankitbansal06/retail-orders\n",
      "License(s): CC0-1.0\n",
      "orders.csv: Skipping, found more recently modified local copy (use --force to force download)\n"
     ]
    }
   ],
   "source": [
    "\n",
    "import kaggle\n",
    "!kaggle datasets download ankitbansal06/retail-orders -f orders.csv"
   ]
  },
  {
   "cell_type": "code",
   "execution_count": 9,
   "id": "58e7f82b",
   "metadata": {},
   "outputs": [],
   "source": [
    "#Import Data From zip file to csv file\n",
    "import zipfile\n",
    "zip_ref = zipfile.ZipFile('orders.csv.zip')\n",
    "zip_ref.extractall()\n",
    "zip_ref.close()"
   ]
  },
  {
   "cell_type": "code",
   "execution_count": 10,
   "id": "3e48e8d7",
   "metadata": {},
   "outputs": [
    {
     "data": {
      "text/plain": [
       "array(['Second Class', 'Standard Class', nan, 'First Class', 'Same Day'],\n",
       "      dtype=object)"
      ]
     },
     "execution_count": 10,
     "metadata": {},
     "output_type": "execute_result"
    }
   ],
   "source": [
    "# Read Data From File And Handle Null Values\n",
    "\n",
    "import pandas as pd\n",
    "df = pd.read_csv('orders.csv', na_values = ['Not Available','unknown'])\n",
    "df['Ship Mode'].unique()"
   ]
  },
  {
   "cell_type": "code",
   "execution_count": 11,
   "id": "583dc5ec",
   "metadata": {},
   "outputs": [],
   "source": [
    "# Rename Columns Name And Make Then Into Lower Case And Replace With Underscore\n",
    "df.columns = df.columns.str.lower()\n",
    "df.columns = df.columns.str.replace(\" \",\"_\")\n"
   ]
  },
  {
   "cell_type": "code",
   "execution_count": 12,
   "id": "cc718717",
   "metadata": {},
   "outputs": [],
   "source": [
    "# Derive New Column discount on Sale Price And Discount Percent\n",
    "df['discount'] = df['list_price']*df['discount_percent']*.01 \n",
    "df['sale_price'] = df['list_price']-df['discount']\n",
    "df['profit'] = df['sale_price']-df['cost_price']\n"
   ]
  },
  {
   "cell_type": "code",
   "execution_count": 13,
   "id": "77a1ece2",
   "metadata": {},
   "outputs": [],
   "source": [
    "#Change Order_date To Datetime Type\n",
    "df['order_date']= pd.to_datetime(df['order_date'],format='%Y-%m-%d')\n"
   ]
  },
  {
   "cell_type": "code",
   "execution_count": 14,
   "id": "a383a126",
   "metadata": {},
   "outputs": [],
   "source": [
    "# Drop unnecessary columns\n",
    "df = df.drop(columns = ['list_price','cost_price','discount_percent'])"
   ]
  },
  {
   "cell_type": "code",
   "execution_count": 15,
   "id": "bd3b3e2a",
   "metadata": {},
   "outputs": [
    {
     "name": "stdout",
     "output_type": "stream",
     "text": [
      "Connected successfully!\n"
     ]
    }
   ],
   "source": [
    "import sqlalchemy as sal\n",
    "connection_url = (\n",
    "    \"mssql+pyodbc://@MSI\\\\SQLEXPRESS/order_analysis\"\n",
    "    \"?driver=ODBC+Driver+17+for+SQL+Server&trusted_connection=yes\"\n",
    ")\n",
    "\n",
    "engine = sal.create_engine(connection_url)\n",
    "conn = engine.connect()\n",
    "print(\"Connected successfully!\")"
   ]
  },
  {
   "cell_type": "code",
   "execution_count": 18,
   "id": "a836ab23",
   "metadata": {},
   "outputs": [
    {
     "data": {
      "text/plain": [
       "0"
      ]
     },
     "execution_count": 18,
     "metadata": {},
     "output_type": "execute_result"
    }
   ],
   "source": [
    "# Get existing order_id values from the SQL table\n",
    "existing_ids = pd.read_sql(\"SELECT order_id FROM df_orders\", conn)\n",
    "\n",
    "# Filter out rows from df that are already in the table\n",
    "df_filtered = df[~df['order_id'].isin(existing_ids['order_id'])]\n",
    "\n",
    "# Insert only the new data\n",
    "df_filtered.to_sql('df_orders', con=conn, index=False, if_exists='append')\n"
   ]
  },
  {
   "cell_type": "code",
   "execution_count": 19,
   "id": "d287d1b8",
   "metadata": {},
   "outputs": [
    {
     "data": {
      "text/plain": [
       "Index(['order_id', 'order_date', 'ship_mode', 'segment', 'country', 'city',\n",
       "       'state', 'postal_code', 'region', 'category', 'sub_category',\n",
       "       'product_id', 'quantity', 'discount', 'sale_price', 'profit'],\n",
       "      dtype='object')"
      ]
     },
     "execution_count": 19,
     "metadata": {},
     "output_type": "execute_result"
    }
   ],
   "source": [
    "df.columns"
   ]
  }
 ],
 "metadata": {
  "kernelspec": {
   "display_name": "Python 3",
   "language": "python",
   "name": "python3"
  },
  "language_info": {
   "codemirror_mode": {
    "name": "ipython",
    "version": 3
   },
   "file_extension": ".py",
   "mimetype": "text/x-python",
   "name": "python",
   "nbconvert_exporter": "python",
   "pygments_lexer": "ipython3",
   "version": "3.13.3"
  }
 },
 "nbformat": 4,
 "nbformat_minor": 5
}
